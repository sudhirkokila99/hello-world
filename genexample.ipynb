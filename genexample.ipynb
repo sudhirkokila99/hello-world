{
  "nbformat": 4,
  "nbformat_minor": 0,
  "metadata": {
    "colab": {
      "name": "Untitled1.ipynb",
      "provenance": [],
      "collapsed_sections": [],
      "authorship_tag": "ABX9TyNRmgJNJGcvDicil25RRwkG",
      "include_colab_link": true
    },
    "kernelspec": {
      "name": "python3",
      "display_name": "Python 3"
    }
  },
  "cells": [
    {
      "cell_type": "markdown",
      "metadata": {
        "id": "view-in-github",
        "colab_type": "text"
      },
      "source": [
        "<a href=\"https://colab.research.google.com/github/sudhirkokila99/hello-world/blob/master/genexample.ipynb\" target=\"_parent\"><img src=\"https://colab.research.google.com/assets/colab-badge.svg\" alt=\"Open In Colab\"/></a>"
      ]
    },
    {
      "cell_type": "code",
      "metadata": {
        "id": "Q45OULALTUlK",
        "colab_type": "code",
        "colab": {
          "base_uri": "https://localhost:8080/",
          "height": 452
        },
        "outputId": "26b82563-19a8-4056-c1d7-81fa8d4bbd25"
      },
      "source": [
        "import random\n",
        "import string\n",
        "import datetime\n",
        "import os\n",
        "import ctypes\n",
        "os.system(\"title Secure Password Generator\")\n",
        "os.system('color 0a')\n",
        "d_date = datetime.datetime.now()\n",
        "reg_format_date = d_date.strftime(\"  %d-%m-%Y\\t\\t\\t\\t\\t  Secure Password Generator\\t\\t\\t\\t  %I:%M:%S %p\")\n",
        "print ('+++++++++++++++++++++++++++++++++++++++++++++++++++++++++++++++++++++++++++++++++++++++++++++++++++++++++++++++++++++++')\n",
        "print (reg_format_date)\n",
        "print ('+++++++++++++++++++++++++++++++++++++++++++++++++++++++++++++++++++++++++++++++++++++++++++++++++++++++++++++++++++++++')\n",
        "num=['1','2','3','4','5','6','7','8','9','0']\n",
        "upper=['A','B','C','D','E','F','G','H','I','J','K','L','M','N','O','P','Q','R','S','T','U','V','W','X','Y','Z']\n",
        "lower=['a','b','c','d','e','f','g','h','i','j','k','l','m','n','o','p','q','r','s','t','u','v','w','x','y','z']\n",
        "specialchar='`~!@#$%^&*()_+-=[]{}|/;:,<.>?'\n",
        "specialchar=list(specialchar)\n",
        "allchar=upper+lower+specialchar\n",
        "n=int((input('\\n\\nEnter length of your password: ')))\n",
        "password=[]\n",
        "\n",
        "def simple(n):          #for simple password.\n",
        "    for i in range(0,n):\n",
        "        password.append(random.choice(upper+lower+num))\n",
        "def hard(n):\n",
        "    for i in range(0,n):    #for complex password\n",
        "        password.append(random.choice(allchar))\n",
        "\n",
        "def choice(n):\n",
        "    z=eval(input('Press 1 for simple password\\nPress 2 for complex password\\n>'))\n",
        "    if z==1:\n",
        "        simple(n)\n",
        "    if z==2:\n",
        "        hard(n)\n",
        "    elif z>2:\n",
        "        print('Wrong input')\n",
        "choice(n)\n",
        "password=''.join(password)\n",
        "\n",
        "if len(password)>0:\n",
        "    print(('Your generated password is:\\n'+password))\n",
        "n=input('\\n\\n\\nEnter Filename to save it: ')\n",
        "fob=open(n+'.txt','w+')\n",
        "fob.write('Your generated password is: \\n\\n')\n",
        "fob.write(password)\n",
        "fob.close()\n",
        "ctypes.windll.user32.MessageBoxA(0,\"Your Generated Password save successfully in a text file \"+n+\".txt\",\"Message\",0)\n"
      ],
      "execution_count": 3,
      "outputs": [
        {
          "output_type": "stream",
          "text": [
            "+++++++++++++++++++++++++++++++++++++++++++++++++++++++++++++++++++++++++++++++++++++++++++++++++++++++++++++++++++++++\n",
            "  11-04-2020\t\t\t\t\t  Secure Password Generator\t\t\t\t  08:16:25 AM\n",
            "+++++++++++++++++++++++++++++++++++++++++++++++++++++++++++++++++++++++++++++++++++++++++++++++++++++++++++++++++++++++\n",
            "\n",
            "\n",
            "Enter length of your password: 5\n",
            "Press 1 for simple password\n",
            "Press 2 for complex password\n",
            ">1\n",
            "Your generated password is:\n",
            "7wGlm\n",
            "\n",
            "\n",
            "\n",
            "Enter Filename to save it: example\n"
          ],
          "name": "stdout"
        },
        {
          "output_type": "error",
          "ename": "AttributeError",
          "evalue": "ignored",
          "traceback": [
            "\u001b[0;31m---------------------------------------------------------------------------\u001b[0m",
            "\u001b[0;31mAttributeError\u001b[0m                            Traceback (most recent call last)",
            "\u001b[0;32m<ipython-input-3-6b8776c96f95>\u001b[0m in \u001b[0;36m<module>\u001b[0;34m()\u001b[0m\n\u001b[1;32m     45\u001b[0m \u001b[0mfob\u001b[0m\u001b[0;34m.\u001b[0m\u001b[0mwrite\u001b[0m\u001b[0;34m(\u001b[0m\u001b[0mpassword\u001b[0m\u001b[0;34m)\u001b[0m\u001b[0;34m\u001b[0m\u001b[0;34m\u001b[0m\u001b[0m\n\u001b[1;32m     46\u001b[0m \u001b[0mfob\u001b[0m\u001b[0;34m.\u001b[0m\u001b[0mclose\u001b[0m\u001b[0;34m(\u001b[0m\u001b[0;34m)\u001b[0m\u001b[0;34m\u001b[0m\u001b[0;34m\u001b[0m\u001b[0m\n\u001b[0;32m---> 47\u001b[0;31m \u001b[0mctypes\u001b[0m\u001b[0;34m.\u001b[0m\u001b[0mwindll\u001b[0m\u001b[0;34m.\u001b[0m\u001b[0muser32\u001b[0m\u001b[0;34m.\u001b[0m\u001b[0mMessageBoxA\u001b[0m\u001b[0;34m(\u001b[0m\u001b[0;36m0\u001b[0m\u001b[0;34m,\u001b[0m\u001b[0;34m\"Your Generated Password save successfully in a text file \"\u001b[0m\u001b[0;34m+\u001b[0m\u001b[0mn\u001b[0m\u001b[0;34m+\u001b[0m\u001b[0;34m\".txt\"\u001b[0m\u001b[0;34m,\u001b[0m\u001b[0;34m\"Message\"\u001b[0m\u001b[0;34m,\u001b[0m\u001b[0;36m0\u001b[0m\u001b[0;34m)\u001b[0m\u001b[0;34m\u001b[0m\u001b[0;34m\u001b[0m\u001b[0m\n\u001b[0m",
            "\u001b[0;31mAttributeError\u001b[0m: module 'ctypes' has no attribute 'windll'"
          ]
        }
      ]
    }
  ]
}